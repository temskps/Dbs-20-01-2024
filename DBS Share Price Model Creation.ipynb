{
 "cells": [
  {
   "cell_type": "code",
   "execution_count": 1,
   "id": "f46a84e3",
   "metadata": {},
   "outputs": [],
   "source": [
    "import pandas as pd\n",
    "df= pd.read_csv(\"DBS_SingDollar.csv\")"
   ]
  },
  {
   "cell_type": "code",
   "execution_count": 2,
   "id": "71b0f227",
   "metadata": {},
   "outputs": [
    {
     "name": "stdout",
     "output_type": "stream",
     "text": [
      "         SGD\n",
      "0    1.38925\n",
      "1    1.38707\n",
      "2    1.38324\n",
      "3    1.38378\n",
      "4    1.37595\n",
      "..       ...\n",
      "117  1.44655\n",
      "118  1.44814\n",
      "119  1.45018\n",
      "120  1.44954\n",
      "121  1.44766\n",
      "\n",
      "[122 rows x 1 columns]\n"
     ]
    }
   ],
   "source": [
    "X = df.loc[:,[\"SGD\"]] \n",
    "Y = df.loc[:,['DBS']] \n",
    "print(X)\n",
    "\n",
    "from sklearn import linear_model\n",
    "model = linear_model.LinearRegression()\n",
    "model.fit(X,Y)\n",
    "pred = model.predict(X)"
   ]
  },
  {
   "cell_type": "code",
   "execution_count": 3,
   "id": "d3277369",
   "metadata": {},
   "outputs": [
    {
     "name": "stdout",
     "output_type": "stream",
     "text": [
      "0.6283698867042151\n"
     ]
    }
   ],
   "source": [
    "from sklearn.metrics import mean_squared_error \n",
    "rmse = mean_squared_error(Y,pred)**0.5 \n",
    "print(rmse)\n",
    "#print(rmse/Y.mean(axis=0)*100)\n",
    "#save mode\"\n",
    "import joblib \n",
    "joblib.dump(model,\"dbs.jl\")\n",
    "#load model\n",
    "model = joblib.load(\"dbs.jl\")"
   ]
  },
  {
   "cell_type": "code",
   "execution_count": 4,
   "id": "434684a3",
   "metadata": {},
   "outputs": [
    {
     "data": {
      "text/plain": [
       "array([[-50.60094302]])"
      ]
     },
     "execution_count": 4,
     "metadata": {},
     "output_type": "execute_result"
    }
   ],
   "source": [
    "model.coef_ "
   ]
  },
  {
   "cell_type": "code",
   "execution_count": 5,
   "id": "f5bf07fe",
   "metadata": {},
   "outputs": [
    {
     "data": {
      "text/plain": [
       "array([90.22858515])"
      ]
     },
     "execution_count": 5,
     "metadata": {},
     "output_type": "execute_result"
    }
   ],
   "source": [
    "model.intercept_"
   ]
  },
  {
   "cell_type": "code",
   "execution_count": 6,
   "id": "b56492e6",
   "metadata": {},
   "outputs": [
    {
     "data": {
      "text/html": [
       "<div>\n",
       "<style scoped>\n",
       "    .dataframe tbody tr th:only-of-type {\n",
       "        vertical-align: middle;\n",
       "    }\n",
       "\n",
       "    .dataframe tbody tr th {\n",
       "        vertical-align: top;\n",
       "    }\n",
       "\n",
       "    .dataframe thead th {\n",
       "        text-align: right;\n",
       "    }\n",
       "</style>\n",
       "<table border=\"1\" class=\"dataframe\">\n",
       "  <thead>\n",
       "    <tr style=\"text-align: right;\">\n",
       "      <th></th>\n",
       "      <th>Unnamed: 0</th>\n",
       "      <th>Date</th>\n",
       "      <th>DBS</th>\n",
       "      <th>SGD</th>\n",
       "    </tr>\n",
       "  </thead>\n",
       "  <tbody>\n",
       "    <tr>\n",
       "      <th>0</th>\n",
       "      <td>1</td>\n",
       "      <td>6/20/2017</td>\n",
       "      <td>20.45</td>\n",
       "      <td>1.38925</td>\n",
       "    </tr>\n",
       "    <tr>\n",
       "      <th>1</th>\n",
       "      <td>2</td>\n",
       "      <td>6/19/2017</td>\n",
       "      <td>20.60</td>\n",
       "      <td>1.38707</td>\n",
       "    </tr>\n",
       "    <tr>\n",
       "      <th>2</th>\n",
       "      <td>3</td>\n",
       "      <td>6/16/2017</td>\n",
       "      <td>20.45</td>\n",
       "      <td>1.38324</td>\n",
       "    </tr>\n",
       "    <tr>\n",
       "      <th>3</th>\n",
       "      <td>4</td>\n",
       "      <td>6/15/2017</td>\n",
       "      <td>20.41</td>\n",
       "      <td>1.38378</td>\n",
       "    </tr>\n",
       "    <tr>\n",
       "      <th>4</th>\n",
       "      <td>5</td>\n",
       "      <td>6/14/2017</td>\n",
       "      <td>20.59</td>\n",
       "      <td>1.37595</td>\n",
       "    </tr>\n",
       "    <tr>\n",
       "      <th>...</th>\n",
       "      <td>...</td>\n",
       "      <td>...</td>\n",
       "      <td>...</td>\n",
       "      <td>...</td>\n",
       "    </tr>\n",
       "    <tr>\n",
       "      <th>117</th>\n",
       "      <td>118</td>\n",
       "      <td>12/30/2016</td>\n",
       "      <td>17.09</td>\n",
       "      <td>1.44655</td>\n",
       "    </tr>\n",
       "    <tr>\n",
       "      <th>118</th>\n",
       "      <td>119</td>\n",
       "      <td>12/29/2016</td>\n",
       "      <td>17.13</td>\n",
       "      <td>1.44814</td>\n",
       "    </tr>\n",
       "    <tr>\n",
       "      <th>119</th>\n",
       "      <td>120</td>\n",
       "      <td>12/28/2016</td>\n",
       "      <td>17.22</td>\n",
       "      <td>1.45018</td>\n",
       "    </tr>\n",
       "    <tr>\n",
       "      <th>120</th>\n",
       "      <td>121</td>\n",
       "      <td>12/27/2016</td>\n",
       "      <td>17.19</td>\n",
       "      <td>1.44954</td>\n",
       "    </tr>\n",
       "    <tr>\n",
       "      <th>121</th>\n",
       "      <td>122</td>\n",
       "      <td>12/23/2016</td>\n",
       "      <td>17.14</td>\n",
       "      <td>1.44766</td>\n",
       "    </tr>\n",
       "  </tbody>\n",
       "</table>\n",
       "<p>122 rows × 4 columns</p>\n",
       "</div>"
      ],
      "text/plain": [
       "     Unnamed: 0        Date    DBS      SGD\n",
       "0             1   6/20/2017  20.45  1.38925\n",
       "1             2   6/19/2017  20.60  1.38707\n",
       "2             3   6/16/2017  20.45  1.38324\n",
       "3             4   6/15/2017  20.41  1.38378\n",
       "4             5   6/14/2017  20.59  1.37595\n",
       "..          ...         ...    ...      ...\n",
       "117         118  12/30/2016  17.09  1.44655\n",
       "118         119  12/29/2016  17.13  1.44814\n",
       "119         120  12/28/2016  17.22  1.45018\n",
       "120         121  12/27/2016  17.19  1.44954\n",
       "121         122  12/23/2016  17.14  1.44766\n",
       "\n",
       "[122 rows x 4 columns]"
      ]
     },
     "execution_count": 6,
     "metadata": {},
     "output_type": "execute_result"
    }
   ],
   "source": [
    "df"
   ]
  },
  {
   "cell_type": "code",
   "execution_count": 7,
   "id": "de215bdf",
   "metadata": {},
   "outputs": [
    {
     "name": "stdout",
     "output_type": "stream",
     "text": [
      " * Serving Flask app '__main__'\n",
      " * Debug mode: off\n"
     ]
    },
    {
     "name": "stderr",
     "output_type": "stream",
     "text": [
      "WARNING: This is a development server. Do not use it in a production deployment. Use a production WSGI server instead.\n",
      " * Running on http://127.0.0.1:5000\n",
      "Press CTRL+C to quit\n",
      "[2024-01-20 14:47:34,650] ERROR in app: Exception on / [GET]\n",
      "Traceback (most recent call last):\n",
      "  File \"/Users/JustinHo/anaconda3/lib/python3.11/site-packages/flask/app.py\", line 2525, in wsgi_app\n",
      "    response = self.full_dispatch_request()\n",
      "               ^^^^^^^^^^^^^^^^^^^^^^^^^^^^\n",
      "  File \"/Users/JustinHo/anaconda3/lib/python3.11/site-packages/flask/app.py\", line 1822, in full_dispatch_request\n",
      "    rv = self.handle_user_exception(e)\n",
      "         ^^^^^^^^^^^^^^^^^^^^^^^^^^^^^\n",
      "  File \"/Users/JustinHo/anaconda3/lib/python3.11/site-packages/flask/app.py\", line 1820, in full_dispatch_request\n",
      "    rv = self.dispatch_request()\n",
      "         ^^^^^^^^^^^^^^^^^^^^^^^\n",
      "  File \"/Users/JustinHo/anaconda3/lib/python3.11/site-packages/flask/app.py\", line 1796, in dispatch_request\n",
      "    return self.ensure_sync(self.view_functions[rule.endpoint])(**view_args)\n",
      "           ^^^^^^^^^^^^^^^^^^^^^^^^^^^^^^^^^^^^^^^^^^^^^^^^^^^^^^^^^^^^^^^^^\n",
      "  File \"/var/folders/0_/359tzsp93l3dkmw2sbcc2z4w0000gp/T/ipykernel_24241/1286920673.py\", line 12, in i\n",
      "    return render_template(\"index.html\", result =\"Waiting..........\")\n",
      "           ^^^^^^^^^^^^^^^^^^^^^^^^^^^^^^^^^^^^^^^^^^^^^^^^^^^^^^^^^^\n",
      "  File \"/Users/JustinHo/anaconda3/lib/python3.11/site-packages/flask/templating.py\", line 146, in render_template\n",
      "    template = app.jinja_env.get_or_select_template(template_name_or_list)\n",
      "               ^^^^^^^^^^^^^^^^^^^^^^^^^^^^^^^^^^^^^^^^^^^^^^^^^^^^^^^^^^^\n",
      "  File \"/Users/JustinHo/anaconda3/lib/python3.11/site-packages/jinja2/environment.py\", line 1081, in get_or_select_template\n",
      "    return self.get_template(template_name_or_list, parent, globals)\n",
      "           ^^^^^^^^^^^^^^^^^^^^^^^^^^^^^^^^^^^^^^^^^^^^^^^^^^^^^^^^^\n",
      "  File \"/Users/JustinHo/anaconda3/lib/python3.11/site-packages/jinja2/environment.py\", line 1010, in get_template\n",
      "    return self._load_template(name, globals)\n",
      "           ^^^^^^^^^^^^^^^^^^^^^^^^^^^^^^^^^^\n",
      "  File \"/Users/JustinHo/anaconda3/lib/python3.11/site-packages/jinja2/environment.py\", line 969, in _load_template\n",
      "    template = self.loader.load(self, name, self.make_globals(globals))\n",
      "               ^^^^^^^^^^^^^^^^^^^^^^^^^^^^^^^^^^^^^^^^^^^^^^^^^^^^^^^^\n",
      "  File \"/Users/JustinHo/anaconda3/lib/python3.11/site-packages/jinja2/loaders.py\", line 126, in load\n",
      "    source, filename, uptodate = self.get_source(environment, name)\n",
      "                                 ^^^^^^^^^^^^^^^^^^^^^^^^^^^^^^^^^^\n",
      "  File \"/Users/JustinHo/anaconda3/lib/python3.11/site-packages/flask/templating.py\", line 62, in get_source\n",
      "    return self._get_source_fast(environment, template)\n",
      "           ^^^^^^^^^^^^^^^^^^^^^^^^^^^^^^^^^^^^^^^^^^^^\n",
      "  File \"/Users/JustinHo/anaconda3/lib/python3.11/site-packages/flask/templating.py\", line 98, in _get_source_fast\n",
      "    raise TemplateNotFound(template)\n",
      "jinja2.exceptions.TemplateNotFound: index.html\n",
      "127.0.0.1 - - [20/Jan/2024 14:47:34] \"GET / HTTP/1.1\" 500 -\n"
     ]
    }
   ],
   "source": []
  },
  {
   "cell_type": "code",
   "execution_count": null,
   "id": "9ee3a08f",
   "metadata": {},
   "outputs": [],
   "source": []
  },
  {
   "cell_type": "code",
   "execution_count": null,
   "id": "4e85b69e",
   "metadata": {},
   "outputs": [],
   "source": []
  },
  {
   "cell_type": "code",
   "execution_count": null,
   "id": "ebd85f08",
   "metadata": {},
   "outputs": [],
   "source": []
  },
  {
   "cell_type": "code",
   "execution_count": null,
   "id": "39c27c02",
   "metadata": {},
   "outputs": [],
   "source": []
  }
 ],
 "metadata": {
  "kernelspec": {
   "display_name": "Python 3 (ipykernel)",
   "language": "python",
   "name": "python3"
  },
  "language_info": {
   "codemirror_mode": {
    "name": "ipython",
    "version": 3
   },
   "file_extension": ".py",
   "mimetype": "text/x-python",
   "name": "python",
   "nbconvert_exporter": "python",
   "pygments_lexer": "ipython3",
   "version": "3.11.5"
  }
 },
 "nbformat": 4,
 "nbformat_minor": 5
}
